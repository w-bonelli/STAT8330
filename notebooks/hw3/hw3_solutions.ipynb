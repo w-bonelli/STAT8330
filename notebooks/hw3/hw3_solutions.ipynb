{
 "cells": [
  {
   "cell_type": "markdown",
   "metadata": {},
   "source": [
    "# 1) Cross validation\n",
    "\n",
    "## Initial calculations"
   ]
  },
  {
   "cell_type": "markdown",
   "metadata": {},
   "source": [
    "First we import libraries and read in the data."
   ]
  },
  {
   "cell_type": "code",
   "execution_count": 1,
   "metadata": {},
   "outputs": [],
   "source": [
    "import pandas as pd\n",
    "import numpy as np\n",
    "import sklearn.linear_model as skl_lm\n",
    "from sklearn.metrics import mean_squared_error\n",
    "from sklearn.preprocessing import PolynomialFeatures\n",
    "from sklearn.model_selection import cross_val_score, KFold, LeaveOneOut\n",
    "\n",
    "auto = pd.read_csv('https://raw.githubusercontent.com/JWarmenhoven/ISLR-python/master/Notebooks/Data/Auto.csv', na_values='?').dropna()"
   ]
  },
  {
   "cell_type": "markdown",
   "metadata": {},
   "source": [
    "Now we split the dataset, half for training, half for testing."
   ]
  },
  {
   "cell_type": "code",
   "execution_count": 2,
   "metadata": {},
   "outputs": [],
   "source": [
    "train = auto.sample(frac=0.5, replace=False, random_state=1)\n",
    "test = auto[~auto.isin(train)].dropna(how = 'all')\n",
    "\n",
    "train_x = train['horsepower'].values.reshape(-1, 1)\n",
    "train_y = train['mpg']\n",
    "\n",
    "test_x = test['horsepower'].values.reshape(-1, 1)\n",
    "test_y = test['mpg']"
   ]
  },
  {
   "cell_type": "markdown",
   "metadata": {},
   "source": [
    "First, fit a linear model to the training data."
   ]
  },
  {
   "cell_type": "code",
   "execution_count": 3,
   "metadata": {},
   "outputs": [],
   "source": [
    "lm = skl_lm.LinearRegression()\n",
    "linear_model = lm.fit(train_x, train_y)"
   ]
  },
  {
   "cell_type": "markdown",
   "metadata": {},
   "source": [
    "Evaluate the linear model against the test data and calculate Mean Squared Error."
   ]
  },
  {
   "cell_type": "code",
   "execution_count": 4,
   "metadata": {},
   "outputs": [
    {
     "data": {
      "text/plain": "23.361902892587224"
     },
     "execution_count": 4,
     "metadata": {},
     "output_type": "execute_result"
    }
   ],
   "source": [
    "linear_pred = linear_model.predict(test_x)\n",
    "linear_mse = mean_squared_error(test_y, linear_pred)\n",
    "linear_mse"
   ]
  },
  {
   "cell_type": "markdown",
   "metadata": {},
   "source": [
    "Next, fit a quadratic model to the training data."
   ]
  },
  {
   "cell_type": "code",
   "execution_count": 5,
   "metadata": {},
   "outputs": [],
   "source": [
    "pm2 = PolynomialFeatures(degree=2)\n",
    "train_x_pm2 = pm2.fit_transform(train_x)\n",
    "test_x_pm2 = pm2.fit_transform(test_x)\n",
    "quadratic_model = lm.fit(train_x_pm2, train_y)"
   ]
  },
  {
   "cell_type": "markdown",
   "metadata": {},
   "source": [
    "Evaluate the quadratic model against the test data and calculate Mean Squared Error."
   ]
  },
  {
   "cell_type": "code",
   "execution_count": 6,
   "metadata": {},
   "outputs": [
    {
     "data": {
      "text/plain": "20.252690858347492"
     },
     "execution_count": 6,
     "metadata": {},
     "output_type": "execute_result"
    }
   ],
   "source": [
    "quadratic_pred = quadratic_model.predict(test_x_pm2)\n",
    "quadratic_mse = mean_squared_error(test_y, quadratic_pred)\n",
    "quadratic_mse"
   ]
  },
  {
   "cell_type": "markdown",
   "metadata": {},
   "source": [
    "Next, fit a cubic model to the training data."
   ]
  },
  {
   "cell_type": "code",
   "execution_count": 7,
   "metadata": {},
   "outputs": [],
   "source": [
    "pm3 = PolynomialFeatures(degree=3)\n",
    "train_x_pm3 = pm3.fit_transform(train_x)\n",
    "test_x_pm3 = pm3.fit_transform(test_x)\n",
    "cubic_model = lm.fit(train_x_pm3, train_y)"
   ]
  },
  {
   "cell_type": "markdown",
   "metadata": {},
   "source": [
    "Evaluate the cubic model against the test data and calculate Mean Squared Error."
   ]
  },
  {
   "cell_type": "code",
   "execution_count": 8,
   "metadata": {},
   "outputs": [
    {
     "data": {
      "text/plain": "20.325609366315604"
     },
     "execution_count": 8,
     "metadata": {},
     "output_type": "execute_result"
    }
   ],
   "source": [
    "cubic_pred = cubic_model.predict(test_x_pm3)\n",
    "cubic_mse = mean_squared_error(test_y, cubic_pred)\n",
    "cubic_mse"
   ]
  },
  {
   "cell_type": "markdown",
   "metadata": {},
   "source": [
    "Next, fit a degree-4 model to the training data."
   ]
  },
  {
   "cell_type": "code",
   "execution_count": 9,
   "metadata": {},
   "outputs": [],
   "source": [
    "pm4 = PolynomialFeatures(degree=4)\n",
    "train_x_pm4 = pm4.fit_transform(train_x)\n",
    "test_x_pm4 = pm4.fit_transform(test_x)\n",
    "d4_model = lm.fit(train_x_pm4, train_y)"
   ]
  },
  {
   "cell_type": "markdown",
   "metadata": {},
   "source": [
    "Evaluate the degree-4 model against the test data and calculate Mean Squared Error."
   ]
  },
  {
   "cell_type": "code",
   "execution_count": 10,
   "metadata": {},
   "outputs": [
    {
     "data": {
      "text/plain": "20.343887109415615"
     },
     "execution_count": 10,
     "metadata": {},
     "output_type": "execute_result"
    }
   ],
   "source": [
    "d4_pred = d4_model.predict(test_x_pm4)\n",
    "d4_mse = mean_squared_error(test_y, d4_pred)\n",
    "d4_mse"
   ]
  },
  {
   "cell_type": "markdown",
   "metadata": {},
   "source": [
    "As in the R example, the quadratic model's MSE is the lowest. This might change using a different random seed, however."
   ]
  },
  {
   "cell_type": "markdown",
   "metadata": {},
   "source": [
    "## LOOCV calculations\n"
   ]
  },
  {
   "cell_type": "markdown",
   "metadata": {},
   "source": [
    "First use LOOCV with a linear model."
   ]
  },
  {
   "cell_type": "code",
   "execution_count": 11,
   "metadata": {},
   "outputs": [
    {
     "name": "stdout",
     "output_type": "stream",
     "text": [
      "MSE for linear model & LOOCV: 24.231513517929226\n"
     ]
    }
   ],
   "source": [
    "# fit linear model\n",
    "model = lm.fit(train_x, train_y)\n",
    "loo = LeaveOneOut()\n",
    "loo_x = auto['horsepower'].values.reshape(-1,1)\n",
    "loo_y = auto['mpg'].values.reshape(-1,1)\n",
    "loo.get_n_splits(loo_x)\n",
    "\n",
    "# using as many folds as we have rows amounts to simple LOOCV\n",
    "cv = KFold(n_splits=len(auto), random_state=None, shuffle=False)\n",
    "\n",
    "# calculate MSE\n",
    "scores = cross_val_score(model, loo_x, loo_y, scoring=\"neg_mean_squared_error\", cv=cv, n_jobs=1)\n",
    "print(f\"MSE for linear model & LOOCV: {str(np.mean(np.abs(scores)))}\")"
   ]
  },
  {
   "cell_type": "markdown",
   "metadata": {},
   "source": [
    "Then use LOOCV with polynomial models of increasing degree."
   ]
  },
  {
   "cell_type": "code",
   "execution_count": 12,
   "metadata": {},
   "outputs": [
    {
     "name": "stdout",
     "output_type": "stream",
     "text": [
      "MSE for degree-1 model & LOOCV: 24.231513517929226\n",
      "MSE for degree-2 model & LOOCV: 19.24821312448939\n",
      "MSE for degree-3 model & LOOCV: 19.334984064114092\n",
      "MSE for degree-4 model & LOOCV: 19.424430309411886\n",
      "MSE for degree-5 model & LOOCV: 19.033211842978396\n"
     ]
    }
   ],
   "source": [
    "for i in range(1, 6):\n",
    "    # fit polynomial model of degree i\n",
    "    poly = PolynomialFeatures(degree=i)\n",
    "    px = poly.fit_transform(loo_x)\n",
    "    pm = lm.fit(px, loo_y)\n",
    "    \n",
    "    # calculate MSE\n",
    "    scores = cross_val_score(model, px, loo_y, scoring=\"neg_mean_squared_error\", cv=cv, n_jobs=1)\n",
    "    print(f\"MSE for degree-{i} model & LOOCV: {str(np.mean(np.abs(scores)))}\")"
   ]
  },
  {
   "cell_type": "markdown",
   "metadata": {
    "pycharm": {
     "name": "#%% md\n"
    }
   },
   "source": [
    "## K-folds CV calculations"
   ]
  },
  {
   "cell_type": "markdown",
   "metadata": {},
   "source": [
    "Use K-folds CV with polynomial models of increasing degree."
   ]
  },
  {
   "cell_type": "code",
   "execution_count": 13,
   "metadata": {},
   "outputs": [
    {
     "name": "stdout",
     "output_type": "stream",
     "text": [
      "MSE for degree-1 model & K-folds CV: 24.231513517929226\n",
      "MSE for degree-2 model & K-folds CV: 19.24821312448939\n",
      "MSE for degree-3 model & K-folds CV: 19.334984064114092\n",
      "MSE for degree-4 model & K-folds CV: 19.424430309411886\n",
      "MSE for degree-5 model & K-folds CV: 19.033211842978396\n",
      "MSE for degree-6 model & K-folds CV: 18.973012737758705\n",
      "MSE for degree-7 model & K-folds CV: 19.126150445808673\n",
      "MSE for degree-8 model & K-folds CV: 19.22423029373206\n",
      "MSE for degree-9 model & K-folds CV: 19.133856501117357\n",
      "MSE for degree-10 model & K-folds CV: 18.945837436861932\n"
     ]
    }
   ],
   "source": [
    "# instead of using as many folds as there are rows, now we K=10\n",
    "crossvalidation = KFold(n_splits=10, shuffle=False)\n",
    "\n",
    "for i in range(1, 11):\n",
    "    # fit polynomial model of degree i\n",
    "    poly = PolynomialFeatures(degree=i)\n",
    "    px = poly.fit_transform(loo_x)\n",
    "    pm = lm.fit(px, loo_y)\n",
    "    \n",
    "    # calculate MSE\n",
    "    scores = cross_val_score(model, px, loo_y, scoring=\"neg_mean_squared_error\", cv=cv, n_jobs=1)\n",
    "    print(f\"MSE for degree-{i} model & K-folds CV: {str(np.mean(np.abs(scores)))}\")"
   ]
  },
  {
   "cell_type": "markdown",
   "metadata": {},
   "source": [
    "References:\n",
    "- https://www.science.smith.edu/~jcrouser/SDS293/labs/lab7-py.html\n",
    "- https://stats.stackexchange.com/questions/280665/variance-of-k-fold-cross-validation-estimates-as-fk-what-is-the-role-of\n",
    "- https://stats.stackexchange.com/questions/61783/bias-and-variance-in-leave-one-out-vs-k-fold-cross-validation"
   ]
  }
 ],
 "metadata": {
  "kernelspec": {
   "display_name": "Python 3 (ipykernel)",
   "language": "python",
   "name": "python3"
  },
  "language_info": {
   "codemirror_mode": {
    "name": "ipython",
    "version": 3
   },
   "file_extension": ".py",
   "mimetype": "text/x-python",
   "name": "python",
   "nbconvert_exporter": "python",
   "pygments_lexer": "ipython3",
   "version": "3.9.7"
  }
 },
 "nbformat": 4,
 "nbformat_minor": 1
}
{
 "cells": [
  {
   "cell_type": "markdown",
   "metadata": {},
   "source": [
    "# Importing Data in Python\n",
    "\n",
    "Note that I have written these notes in a Jupyter Notebook. Jupyter Notebook is included as part of Anaconda. You can find information and examples at https://jupyter-notebook.readthedocs.io/en/stable/. Jupyter Notesbooks are a good tool for writing documents that use Python. However, I would not recommend using them for writing serious code. Spyder has much better tools for coding, debugging, etc. \n",
    "\n",
    "Next, we will learn how to import data in Python. The procedures are quite similar to R. First, we will need to import the **pandas** module. This is one of the primary modules in Python for doing statistics and data analysys. See the link below:\n",
    "\n",
    "\n",
    "https://pandas.pydata.org/\n",
    "\n",
    "\n",
    "I import **pandas** below. \n"
   ]
  },
  {
   "cell_type": "code",
   "execution_count": 1,
   "metadata": {},
   "outputs": [],
   "source": [
    "import pandas as pd\n",
    "import numpy as np\n",
    "import matplotlib\n",
    "from matplotlib import pyplot as plt"
   ]
  },
  {
   "cell_type": "markdown",
   "metadata": {},
   "source": [
    "The **pandas** module has a command **read_csv** that can be used to read in csv files. We will start by reading in the gun data:"
   ]
  },
  {
   "cell_type": "code",
   "execution_count": 2,
   "metadata": {
    "scrolled": true
   },
   "outputs": [
    {
     "data": {
      "text/html": [
       "<div>\n",
       "<style scoped>\n",
       "    .dataframe tbody tr th:only-of-type {\n",
       "        vertical-align: middle;\n",
       "    }\n",
       "\n",
       "    .dataframe tbody tr th {\n",
       "        vertical-align: top;\n",
       "    }\n",
       "\n",
       "    .dataframe thead th {\n",
       "        text-align: right;\n",
       "    }\n",
       "</style>\n",
       "<table border=\"1\" class=\"dataframe\">\n",
       "  <thead>\n",
       "    <tr style=\"text-align: right;\">\n",
       "      <th></th>\n",
       "      <th>Unnamed: 0</th>\n",
       "      <th>year</th>\n",
       "      <th>month</th>\n",
       "      <th>intent</th>\n",
       "      <th>police</th>\n",
       "      <th>sex</th>\n",
       "      <th>age</th>\n",
       "      <th>race</th>\n",
       "      <th>hispanic</th>\n",
       "      <th>place</th>\n",
       "      <th>education</th>\n",
       "    </tr>\n",
       "  </thead>\n",
       "  <tbody>\n",
       "    <tr>\n",
       "      <th>0</th>\n",
       "      <td>1</td>\n",
       "      <td>2012</td>\n",
       "      <td>1</td>\n",
       "      <td>Suicide</td>\n",
       "      <td>0</td>\n",
       "      <td>M</td>\n",
       "      <td>34.0</td>\n",
       "      <td>Asian/Pacific Islander</td>\n",
       "      <td>100</td>\n",
       "      <td>Home</td>\n",
       "      <td>BA+</td>\n",
       "    </tr>\n",
       "    <tr>\n",
       "      <th>1</th>\n",
       "      <td>2</td>\n",
       "      <td>2012</td>\n",
       "      <td>1</td>\n",
       "      <td>Suicide</td>\n",
       "      <td>0</td>\n",
       "      <td>F</td>\n",
       "      <td>21.0</td>\n",
       "      <td>White</td>\n",
       "      <td>100</td>\n",
       "      <td>Street</td>\n",
       "      <td>Some college</td>\n",
       "    </tr>\n",
       "    <tr>\n",
       "      <th>2</th>\n",
       "      <td>3</td>\n",
       "      <td>2012</td>\n",
       "      <td>1</td>\n",
       "      <td>Suicide</td>\n",
       "      <td>0</td>\n",
       "      <td>M</td>\n",
       "      <td>60.0</td>\n",
       "      <td>White</td>\n",
       "      <td>100</td>\n",
       "      <td>Other specified</td>\n",
       "      <td>BA+</td>\n",
       "    </tr>\n",
       "    <tr>\n",
       "      <th>3</th>\n",
       "      <td>4</td>\n",
       "      <td>2012</td>\n",
       "      <td>2</td>\n",
       "      <td>Suicide</td>\n",
       "      <td>0</td>\n",
       "      <td>M</td>\n",
       "      <td>64.0</td>\n",
       "      <td>White</td>\n",
       "      <td>100</td>\n",
       "      <td>Home</td>\n",
       "      <td>BA+</td>\n",
       "    </tr>\n",
       "    <tr>\n",
       "      <th>4</th>\n",
       "      <td>5</td>\n",
       "      <td>2012</td>\n",
       "      <td>2</td>\n",
       "      <td>Suicide</td>\n",
       "      <td>0</td>\n",
       "      <td>M</td>\n",
       "      <td>31.0</td>\n",
       "      <td>White</td>\n",
       "      <td>100</td>\n",
       "      <td>Other specified</td>\n",
       "      <td>HS/GED</td>\n",
       "    </tr>\n",
       "    <tr>\n",
       "      <th>...</th>\n",
       "      <td>...</td>\n",
       "      <td>...</td>\n",
       "      <td>...</td>\n",
       "      <td>...</td>\n",
       "      <td>...</td>\n",
       "      <td>...</td>\n",
       "      <td>...</td>\n",
       "      <td>...</td>\n",
       "      <td>...</td>\n",
       "      <td>...</td>\n",
       "      <td>...</td>\n",
       "    </tr>\n",
       "    <tr>\n",
       "      <th>100793</th>\n",
       "      <td>100794</td>\n",
       "      <td>2014</td>\n",
       "      <td>12</td>\n",
       "      <td>Homicide</td>\n",
       "      <td>0</td>\n",
       "      <td>M</td>\n",
       "      <td>36.0</td>\n",
       "      <td>Black</td>\n",
       "      <td>100</td>\n",
       "      <td>Home</td>\n",
       "      <td>HS/GED</td>\n",
       "    </tr>\n",
       "    <tr>\n",
       "      <th>100794</th>\n",
       "      <td>100795</td>\n",
       "      <td>2014</td>\n",
       "      <td>12</td>\n",
       "      <td>Homicide</td>\n",
       "      <td>0</td>\n",
       "      <td>M</td>\n",
       "      <td>19.0</td>\n",
       "      <td>Black</td>\n",
       "      <td>100</td>\n",
       "      <td>Street</td>\n",
       "      <td>HS/GED</td>\n",
       "    </tr>\n",
       "    <tr>\n",
       "      <th>100795</th>\n",
       "      <td>100796</td>\n",
       "      <td>2014</td>\n",
       "      <td>12</td>\n",
       "      <td>Homicide</td>\n",
       "      <td>0</td>\n",
       "      <td>M</td>\n",
       "      <td>20.0</td>\n",
       "      <td>Black</td>\n",
       "      <td>100</td>\n",
       "      <td>Street</td>\n",
       "      <td>HS/GED</td>\n",
       "    </tr>\n",
       "    <tr>\n",
       "      <th>100796</th>\n",
       "      <td>100797</td>\n",
       "      <td>2014</td>\n",
       "      <td>12</td>\n",
       "      <td>Homicide</td>\n",
       "      <td>0</td>\n",
       "      <td>M</td>\n",
       "      <td>22.0</td>\n",
       "      <td>Hispanic</td>\n",
       "      <td>260</td>\n",
       "      <td>Street</td>\n",
       "      <td>Less than HS</td>\n",
       "    </tr>\n",
       "    <tr>\n",
       "      <th>100797</th>\n",
       "      <td>100798</td>\n",
       "      <td>2014</td>\n",
       "      <td>10</td>\n",
       "      <td>Homicide</td>\n",
       "      <td>0</td>\n",
       "      <td>M</td>\n",
       "      <td>43.0</td>\n",
       "      <td>Black</td>\n",
       "      <td>100</td>\n",
       "      <td>Other unspecified</td>\n",
       "      <td>HS/GED</td>\n",
       "    </tr>\n",
       "  </tbody>\n",
       "</table>\n",
       "<p>100798 rows × 11 columns</p>\n",
       "</div>"
      ],
      "text/plain": [
       "        Unnamed: 0  year  month    intent  police sex   age  \\\n",
       "0                1  2012      1   Suicide       0   M  34.0   \n",
       "1                2  2012      1   Suicide       0   F  21.0   \n",
       "2                3  2012      1   Suicide       0   M  60.0   \n",
       "3                4  2012      2   Suicide       0   M  64.0   \n",
       "4                5  2012      2   Suicide       0   M  31.0   \n",
       "...            ...   ...    ...       ...     ...  ..   ...   \n",
       "100793      100794  2014     12  Homicide       0   M  36.0   \n",
       "100794      100795  2014     12  Homicide       0   M  19.0   \n",
       "100795      100796  2014     12  Homicide       0   M  20.0   \n",
       "100796      100797  2014     12  Homicide       0   M  22.0   \n",
       "100797      100798  2014     10  Homicide       0   M  43.0   \n",
       "\n",
       "                          race  hispanic              place     education  \n",
       "0       Asian/Pacific Islander       100               Home           BA+  \n",
       "1                        White       100             Street  Some college  \n",
       "2                        White       100    Other specified           BA+  \n",
       "3                        White       100               Home           BA+  \n",
       "4                        White       100    Other specified        HS/GED  \n",
       "...                        ...       ...                ...           ...  \n",
       "100793                   Black       100               Home        HS/GED  \n",
       "100794                   Black       100             Street        HS/GED  \n",
       "100795                   Black       100             Street        HS/GED  \n",
       "100796                Hispanic       260             Street  Less than HS  \n",
       "100797                   Black       100  Other unspecified        HS/GED  \n",
       "\n",
       "[100798 rows x 11 columns]"
      ]
     },
     "execution_count": 2,
     "metadata": {},
     "output_type": "execute_result"
    }
   ],
   "source": [
    "pd.read_csv(\"../data/full_data.csv\")"
   ]
  },
  {
   "cell_type": "markdown",
   "metadata": {},
   "source": [
    "This is very similar to R. See the help page for **read_csv** for details:\n",
    "\n",
    "https://pandas.pydata.org/pandas-docs/stable/reference/api/pandas.read_csv.html#pandas.read_csv\n",
    "\n",
    "\n",
    "The options are very similar to **read_csv** and **read.csv** in R, although somewhat less convenient. There are not built-in functions for tab delimited or space delimited files like in R. However, you can read in these file types using the **sep** option. \n",
    "\n",
    "**pandas.read_csv** reads in the data as a *pandas* data frame. This has similar properties as data frames in R (in fact, *pandas* was designed to emulate R). \n",
    "\n",
    "In the code above, I read in the guns data without actually saving it to a data frame. Now, I will do that: \n",
    "\n",
    "\n"
   ]
  },
  {
   "cell_type": "code",
   "execution_count": 3,
   "metadata": {},
   "outputs": [],
   "source": [
    "guns=pd.read_csv(\"../data/full_data.csv\")"
   ]
  },
  {
   "cell_type": "markdown",
   "metadata": {
    "pycharm": {
     "name": "#%% md\n"
    }
   },
   "source": [
    "We can find the dimension of the data as follows: "
   ]
  },
  {
   "cell_type": "code",
   "execution_count": 4,
   "metadata": {},
   "outputs": [
    {
     "data": {
      "text/plain": [
       "(100798, 11)"
      ]
     },
     "execution_count": 4,
     "metadata": {},
     "output_type": "execute_result"
    }
   ],
   "source": [
    "guns.shape"
   ]
  },
  {
   "cell_type": "markdown",
   "metadata": {},
   "source": [
    "We can access columns of the data frame with the syntax **dataframename.colname**. For example, we can access the **intent** column as shown below. "
   ]
  },
  {
   "cell_type": "code",
   "execution_count": 5,
   "metadata": {},
   "outputs": [
    {
     "data": {
      "text/plain": [
       "0          Suicide\n",
       "1          Suicide\n",
       "2          Suicide\n",
       "3          Suicide\n",
       "4          Suicide\n",
       "            ...   \n",
       "100793    Homicide\n",
       "100794    Homicide\n",
       "100795    Homicide\n",
       "100796    Homicide\n",
       "100797    Homicide\n",
       "Name: intent, Length: 100798, dtype: object"
      ]
     },
     "execution_count": 5,
     "metadata": {},
     "output_type": "execute_result"
    }
   ],
   "source": [
    "guns.intent"
   ]
  },
  {
   "cell_type": "markdown",
   "metadata": {},
   "source": [
    "We can access parts of a column in a manner similar to R: "
   ]
  },
  {
   "cell_type": "code",
   "execution_count": 6,
   "metadata": {},
   "outputs": [
    {
     "data": {
      "text/plain": [
       "0         Suicide\n",
       "1         Suicide\n",
       "2         Suicide\n",
       "3         Suicide\n",
       "4         Suicide\n",
       "5         Suicide\n",
       "6    Undetermined\n",
       "7         Suicide\n",
       "8      Accidental\n",
       "Name: intent, dtype: object"
      ]
     },
     "execution_count": 6,
     "metadata": {},
     "output_type": "execute_result"
    }
   ],
   "source": [
    "guns.intent[0:9]"
   ]
  },
  {
   "cell_type": "markdown",
   "metadata": {},
   "source": [
    "Note that Python indexes from 0, whereas R indexes from 1 !!!!!!!!!!!!!!!!!!!!!!!!!!!\n",
    "\n",
    "We can access particular elements as follows: "
   ]
  },
  {
   "cell_type": "code",
   "execution_count": 7,
   "metadata": {},
   "outputs": [
    {
     "data": {
      "text/plain": [
       "2     Suicide\n",
       "3     Suicide\n",
       "10    Suicide\n",
       "Name: intent, dtype: object"
      ]
     },
     "execution_count": 7,
     "metadata": {},
     "output_type": "execute_result"
    }
   ],
   "source": [
    "guns.intent[[2,3,10]]"
   ]
  },
  {
   "cell_type": "markdown",
   "metadata": {},
   "source": [
    "We can also do the following:"
   ]
  },
  {
   "cell_type": "code",
   "execution_count": 8,
   "metadata": {},
   "outputs": [
    {
     "data": {
      "text/plain": [
       "0         Suicide\n",
       "1         Suicide\n",
       "2         Suicide\n",
       "3         Suicide\n",
       "4         Suicide\n",
       "5         Suicide\n",
       "6    Undetermined\n",
       "7         Suicide\n",
       "8      Accidental\n",
       "9         Suicide\n",
       "Name: intent, dtype: object"
      ]
     },
     "execution_count": 8,
     "metadata": {},
     "output_type": "execute_result"
    }
   ],
   "source": [
    "guns['intent'][0:10]\n"
   ]
  },
  {
   "cell_type": "markdown",
   "metadata": {},
   "source": [
    "We will talk much more about accessing data frames as we progress through the semester. \n",
    "### Working Directory and File Paths\n",
    "Like with R, we must specify a working directory. You do this by typing in or browsing to the desired directory in the box in the upper right corner of the Spyder inteface. In Jupyter Notebooks, the working directory is the same directory as the notebook by default. If you need to change it, you can easily google the correct procedure. \n",
    "\n",
    "When reading in data, you must specify a valid file path from the working directory to the directory where the data is. For example, in my code above, the file path is \n",
    "\n",
    "```\"../data/full_data.csv\"```\n",
    "\n",
    "This says  \n",
    "1. Start in the current directory (`../`).  \n",
    "2. Go up three directory levels (`../../../`)  \n",
    "3. Go to the folder `STAT4365`.  \n",
    "4. Within `STAT4365` look for the folder `Data Sets`.  \n",
    "5. Within the folder `Data Sets` look for the folder `guns-master-data`.  \n",
    "6. Within the folder `guns-master-data` look for the file called `full_data.csv`. \n",
    "\n",
    "This is known as a **relative** file path because it gives the path relative to the working director. There are also **absolute** file paths that give the path starting from the root directory. The absolute path for the guns data on my computer is \n",
    "\n",
    "```\"C:/Users/pdschlie/Dropbox/courses/STAT4365/Data Sets/guns-data-master/full_data.csv\"```\n",
    "\n",
    "Because I use cloud storage (Dropbox) and use my files on multiple computers, I must use relative file paths. The absolute file path is not the same on my different computers (because Dropbox is in different locations) but the relative file path is always the same because everything (code and data) is contained within Dropbox. \n"
   ]
  },
  {
   "cell_type": "markdown",
   "metadata": {},
   "source": [
    "\n",
    "Next, let's do an exercise. \n",
    "\n",
    "**Exercise:**   \n",
    "1) Read in the College Scorecard data, accounting for missing data in the form of NULL and Privacy_Suppressed.  \n",
    "2) Inspect the admission rate column of your data frame to see whether missing values were handled correctly.   \n",
    "3) Read in both_sexes_for Exercise.csv, accounting for the extra text at the top. This data set is in the Marriage Data folder on eLC.  \n",
    "4) Inspect the data frame to ensure that it was read in correctly.   \n",
    "\n",
    "\n",
    "For solutions, see the file ExerciseSolutions_ImportingData.py on eLC. \n"
   ]
  },
  {
   "cell_type": "markdown",
   "metadata": {},
   "source": [
    "We will talk extensively about making plots, but here is a quick example:"
   ]
  },
  {
   "cell_type": "code",
   "execution_count": 9,
   "metadata": {},
   "outputs": [
    {
     "ename": "ImportError",
     "evalue": "matplotlib is required for plotting when the default backend \"matplotlib\" is selected.",
     "output_type": "error",
     "traceback": [
      "\u001B[0;31m---------------------------------------------------------------------------\u001B[0m",
      "\u001B[0;31mImportError\u001B[0m                               Traceback (most recent call last)",
      "\u001B[0;32m<ipython-input-9-5dbde836a635>\u001B[0m in \u001B[0;36m<module>\u001B[0;34m\u001B[0m\n\u001B[0;32m----> 1\u001B[0;31m \u001B[0mguns\u001B[0m\u001B[0;34m.\u001B[0m\u001B[0mage\u001B[0m\u001B[0;34m.\u001B[0m\u001B[0mplot\u001B[0m\u001B[0;34m(\u001B[0m\u001B[0mkind\u001B[0m\u001B[0;34m=\u001B[0m\u001B[0;34m'hist'\u001B[0m\u001B[0;34m)\u001B[0m\u001B[0;34m\u001B[0m\u001B[0;34m\u001B[0m\u001B[0m\n\u001B[0m\u001B[1;32m      2\u001B[0m \u001B[0;34m\u001B[0m\u001B[0m\n",
      "\u001B[0;32m~/.conda/envs/code/lib/python3.9/site-packages/pandas/plotting/_core.py\u001B[0m in \u001B[0;36m__call__\u001B[0;34m(self, *args, **kwargs)\u001B[0m\n\u001B[1;32m    890\u001B[0m \u001B[0;34m\u001B[0m\u001B[0m\n\u001B[1;32m    891\u001B[0m     \u001B[0;32mdef\u001B[0m \u001B[0m__call__\u001B[0m\u001B[0;34m(\u001B[0m\u001B[0mself\u001B[0m\u001B[0;34m,\u001B[0m \u001B[0;34m*\u001B[0m\u001B[0margs\u001B[0m\u001B[0;34m,\u001B[0m \u001B[0;34m**\u001B[0m\u001B[0mkwargs\u001B[0m\u001B[0;34m)\u001B[0m\u001B[0;34m:\u001B[0m\u001B[0;34m\u001B[0m\u001B[0;34m\u001B[0m\u001B[0m\n\u001B[0;32m--> 892\u001B[0;31m         \u001B[0mplot_backend\u001B[0m \u001B[0;34m=\u001B[0m \u001B[0m_get_plot_backend\u001B[0m\u001B[0;34m(\u001B[0m\u001B[0mkwargs\u001B[0m\u001B[0;34m.\u001B[0m\u001B[0mpop\u001B[0m\u001B[0;34m(\u001B[0m\u001B[0;34m\"backend\"\u001B[0m\u001B[0;34m,\u001B[0m \u001B[0;32mNone\u001B[0m\u001B[0;34m)\u001B[0m\u001B[0;34m)\u001B[0m\u001B[0;34m\u001B[0m\u001B[0;34m\u001B[0m\u001B[0m\n\u001B[0m\u001B[1;32m    893\u001B[0m \u001B[0;34m\u001B[0m\u001B[0m\n\u001B[1;32m    894\u001B[0m         x, y, kind, kwargs = self._get_call_args(\n",
      "\u001B[0;32m~/.conda/envs/code/lib/python3.9/site-packages/pandas/plotting/_core.py\u001B[0m in \u001B[0;36m_get_plot_backend\u001B[0;34m(backend)\u001B[0m\n\u001B[1;32m   1812\u001B[0m         \u001B[0;32mreturn\u001B[0m \u001B[0m_backends\u001B[0m\u001B[0;34m[\u001B[0m\u001B[0mbackend\u001B[0m\u001B[0;34m]\u001B[0m\u001B[0;34m\u001B[0m\u001B[0;34m\u001B[0m\u001B[0m\n\u001B[1;32m   1813\u001B[0m \u001B[0;34m\u001B[0m\u001B[0m\n\u001B[0;32m-> 1814\u001B[0;31m     \u001B[0mmodule\u001B[0m \u001B[0;34m=\u001B[0m \u001B[0m_load_backend\u001B[0m\u001B[0;34m(\u001B[0m\u001B[0mbackend\u001B[0m\u001B[0;34m)\u001B[0m\u001B[0;34m\u001B[0m\u001B[0;34m\u001B[0m\u001B[0m\n\u001B[0m\u001B[1;32m   1815\u001B[0m     \u001B[0m_backends\u001B[0m\u001B[0;34m[\u001B[0m\u001B[0mbackend\u001B[0m\u001B[0;34m]\u001B[0m \u001B[0;34m=\u001B[0m \u001B[0mmodule\u001B[0m\u001B[0;34m\u001B[0m\u001B[0;34m\u001B[0m\u001B[0m\n\u001B[1;32m   1816\u001B[0m     \u001B[0;32mreturn\u001B[0m \u001B[0mmodule\u001B[0m\u001B[0;34m\u001B[0m\u001B[0;34m\u001B[0m\u001B[0m\n",
      "\u001B[0;32m~/.conda/envs/code/lib/python3.9/site-packages/pandas/plotting/_core.py\u001B[0m in \u001B[0;36m_load_backend\u001B[0;34m(backend)\u001B[0m\n\u001B[1;32m   1752\u001B[0m             \u001B[0mmodule\u001B[0m \u001B[0;34m=\u001B[0m \u001B[0mimportlib\u001B[0m\u001B[0;34m.\u001B[0m\u001B[0mimport_module\u001B[0m\u001B[0;34m(\u001B[0m\u001B[0;34m\"pandas.plotting._matplotlib\"\u001B[0m\u001B[0;34m)\u001B[0m\u001B[0;34m\u001B[0m\u001B[0;34m\u001B[0m\u001B[0m\n\u001B[1;32m   1753\u001B[0m         \u001B[0;32mexcept\u001B[0m \u001B[0mImportError\u001B[0m\u001B[0;34m:\u001B[0m\u001B[0;34m\u001B[0m\u001B[0;34m\u001B[0m\u001B[0m\n\u001B[0;32m-> 1754\u001B[0;31m             raise ImportError(\n\u001B[0m\u001B[1;32m   1755\u001B[0m                 \u001B[0;34m\"matplotlib is required for plotting when the \"\u001B[0m\u001B[0;34m\u001B[0m\u001B[0;34m\u001B[0m\u001B[0m\n\u001B[1;32m   1756\u001B[0m                 \u001B[0;34m'default backend \"matplotlib\" is selected.'\u001B[0m\u001B[0;34m\u001B[0m\u001B[0;34m\u001B[0m\u001B[0m\n",
      "\u001B[0;31mImportError\u001B[0m: matplotlib is required for plotting when the default backend \"matplotlib\" is selected."
     ]
    }
   ],
   "source": [
    "guns.age.plot(kind='hist')"
   ]
  },
  {
   "cell_type": "markdown",
   "metadata": {},
   "source": [
    "**Exercise:**  \n",
    "\n",
    "Make a histogram of admissions rates in the College Scorecard data"
   ]
  },
  {
   "cell_type": "code",
   "execution_count": null,
   "metadata": {},
   "outputs": [],
   "source": []
  }
 ],
 "metadata": {
  "kernelspec": {
   "display_name": "Python 3",
   "language": "python",
   "name": "python3"
  },
  "language_info": {
   "codemirror_mode": {
    "name": "ipython",
    "version": 3
   },
   "file_extension": ".py",
   "mimetype": "text/x-python",
   "name": "python",
   "nbconvert_exporter": "python",
   "pygments_lexer": "ipython3",
   "version": "3.9.6"
  }
 },
 "nbformat": 4,
 "nbformat_minor": 2
}